{
 "cells": [
  {
   "cell_type": "markdown",
   "id": "6fe777d6",
   "metadata": {},
   "source": [
    "# Simple Linear Regression\n",
    "\n",
    "In this notebook the goal is to get you to do some simple linear regression using some of the numpy skills you aquired last week. First we will go through the basic operations in numpy you might need (I am not giving anything away), then it is up to you to use what you learned so construct the least squares estimate for a simulated dataset."
   ]
  },
  {
   "cell_type": "markdown",
   "id": "629c1372",
   "metadata": {},
   "source": [
    "### Some simple operations in numpy\n",
    "\n",
    "Here are some simple operations you might need for today"
   ]
  },
  {
   "cell_type": "code",
   "execution_count": 1,
   "id": "da708cf5",
   "metadata": {},
   "outputs": [],
   "source": [
    "import numpy as np\n",
    "import matplotlib.pyplot as plt"
   ]
  },
  {
   "cell_type": "code",
   "execution_count": 2,
   "id": "200d1d2c",
   "metadata": {},
   "outputs": [
    {
     "name": "stdout",
     "output_type": "stream",
     "text": [
      "0.7749999999999999\n",
      "0.7749999999999999\n"
     ]
    }
   ],
   "source": [
    "# compute the mean of a vector/array of data - this works for python lists and numpy arrays\n",
    "print(np.mean([0.1, 2.0, 3.0, -2.0]))\n",
    "# you can also use .mean() for numpy arrays\n",
    "a = np.array([0.1, 2.0, 3.0, -2.0])\n",
    "print(a.mean())"
   ]
  },
  {
   "cell_type": "code",
   "execution_count": 3,
   "id": "644d4f38",
   "metadata": {},
   "outputs": [
    {
     "name": "stdout",
     "output_type": "stream",
     "text": [
      "3.0999999999999996\n",
      "3.0999999999999996\n"
     ]
    }
   ],
   "source": [
    "# sum the contents of an array - this works for python lists and numpy arrays\n",
    "print(np.sum([0.1, 2.0, 3.0, -2.0]))\n",
    "# you can also use .sum() for numpy arrays\n",
    "a = np.array([0.1, 2.0, 3.0, -2.0])\n",
    "print(a.sum())"
   ]
  },
  {
   "cell_type": "code",
   "execution_count": 4,
   "id": "8bc4a8f4",
   "metadata": {},
   "outputs": [
    {
     "name": "stdout",
     "output_type": "stream",
     "text": [
      "[0.01 4.   9.   4.  ]\n",
      "[0.01 4.   9.   4.  ]\n"
     ]
    }
   ],
   "source": [
    "# elementwise square of an array - this works for python lists and numpy arrays\n",
    "print(np.power([0.1, 2.0, 3.0, -2.0], 2))\n",
    "# you can also use **2 notation for numpy arrays (THIS WON\"T WORK FOR PYTHON LISTS) - DONT USE ^2 this is a common mistake\n",
    "a = np.array([0.1, 2.0, 3.0, -2.0])\n",
    "print(a**2)"
   ]
  },
  {
   "cell_type": "code",
   "execution_count": 5,
   "id": "5ee16c33",
   "metadata": {},
   "outputs": [
    {
     "name": "stdout",
     "output_type": "stream",
     "text": [
      "[ 0.2  4.   6.  -4. ]\n",
      "[ 0.05  1.    1.5  -1.  ]\n"
     ]
    }
   ],
   "source": [
    "# elementwise multiplication and division of a numpy array by a scalar - this only works for numpy arrays\n",
    "a = np.array([0.1, 2.0, 3.0, -2.0])\n",
    "print(a*2)\n",
    "print(a/2)"
   ]
  },
  {
   "cell_type": "code",
   "execution_count": 6,
   "id": "8727b0d8",
   "metadata": {},
   "outputs": [
    {
     "name": "stdout",
     "output_type": "stream",
     "text": [
      "[ 0.05  2.    6.   -6.  ]\n",
      "[ 0.2         2.          1.5        -0.66666667]\n"
     ]
    }
   ],
   "source": [
    "# elementwise multiplication and division of a numpy array by another numpy array - this only works for numpy arrays\n",
    "a = np.array([0.1, 2.0, 3.0, -2.0])\n",
    "b = np.array([0.5, 1.0, 2.0, 3.0])\n",
    "print(a*b)\n",
    "print(a/b)"
   ]
  },
  {
   "cell_type": "markdown",
   "id": "aa5552e4",
   "metadata": {},
   "source": [
    "### Simple linear regression with simulated data\n",
    "\n",
    "This should be all you now need to do simple linear regression on the simulated data"
   ]
  },
  {
   "cell_type": "code",
   "execution_count": 7,
   "id": "741f7513",
   "metadata": {},
   "outputs": [],
   "source": [
    "# Simulated Data (DONT CHANGE THIS CODE!)\n",
    "np.random.seed(0)\n",
    "N = 10\n",
    "f = lambda x: 0.2 + 1.4 * x\n",
    "x = np.linspace(0.0, 5.0, num=N)\n",
    "y = f(x) + np.random.randn(N)"
   ]
  },
  {
   "cell_type": "code",
   "execution_count": 8,
   "id": "b8bd4bbd",
   "metadata": {},
   "outputs": [
    {
     "name": "stdout",
     "output_type": "stream",
     "text": [
      "[0.         0.55555556 1.11111111 1.66666667 2.22222222 2.77777778\n",
      " 3.33333333 3.88888889 4.44444444 5.        ]\n",
      "[1.96405235 1.37793499 2.73429354 4.77422653 5.1786691  3.11161101\n",
      " 5.81675508 5.49308724 6.31900337 7.6105985 ]\n"
     ]
    }
   ],
   "source": [
    "# The data points are stored in the numpy arrays x and y\n",
    "print(x)\n",
    "print(y)"
   ]
  },
  {
   "cell_type": "code",
   "execution_count": 9,
   "id": "a710865a",
   "metadata": {},
   "outputs": [
    {
     "data": {
      "text/plain": [
       "<matplotlib.legend.Legend at 0x25cb7eb9be0>"
      ]
     },
     "execution_count": 9,
     "metadata": {},
     "output_type": "execute_result"
    },
    {
     "data": {
      "image/png": "[encoded data removed]",
      "text/plain": [
       "<Figure size 640x480 with 1 Axes>"
      ]
     },
     "metadata": {},
     "output_type": "display_data"
    }
   ],
   "source": [
    "# remeber we are trying to predict y given x, let's plot the datapoints out\n",
    "\n",
    "plt.scatter(x, y, color='blue', label='Data Points') \n",
    "\n",
    "plt.xlabel('X values')\n",
    "plt.ylabel('Y values')\n",
    "plt.title('Scatter Plot the Datapoints')\n",
    "plt.legend()"
   ]
  },
  {
   "cell_type": "markdown",
   "id": "5f234a7a",
   "metadata": {},
   "source": [
    "### Now its your turn\n",
    "\n",
    "Now it is up to you to derive the least squares estimate for the y-intercept w0 and the slope/gradient w1 (no cheating ;))"
   ]
  },
  {
   "cell_type": "code",
   "execution_count": 10,
   "id": "c59a35eb",
   "metadata": {},
   "outputs": [
    {
     "name": "stdout",
     "output_type": "stream",
     "text": [
      "1.7036352578504763\n",
      "1.0937551651513435\n"
     ]
    }
   ],
   "source": [
    "# Your code goes here\n",
    "\n",
    "#w_0 = ?\n",
    "#w_1 = ?\n",
    "\n",
    "x_bar = np.mean(x)\n",
    "y_bar = np.mean(y)\n",
    "\n",
    "var_x = np.mean(x**2) - x_bar**2\n",
    "cov_x_y = np.mean(x*y) - x_bar*y_bar\n",
    "\n",
    "w_1 = cov_x_y / var_x\n",
    "w_0 = y_bar - w_1 * x_bar\n",
    "\n",
    "print(w_0)\n",
    "print(w_1)\n"
   ]
  },
  {
   "cell_type": "code",
   "execution_count": 11,
   "id": "2399d917",
   "metadata": {},
   "outputs": [
    {
     "data": {
      "text/plain": [
       "<matplotlib.legend.Legend at 0x25cb7e471f0>"
      ]
     },
     "execution_count": 11,
     "metadata": {},
     "output_type": "execute_result"
    },
    {
     "data": {
      "image/png": "[encoded data removed]",
      "text/plain": [
       "<Figure size 640x480 with 1 Axes>"
      ]
     },
     "metadata": {},
     "output_type": "display_data"
    }
   ],
   "source": [
    "# Plotting the result - let's see how well your line fits the data\n",
    "\n",
    "plt.scatter(x, y, color='blue', label='Data Points')\n",
    "\n",
    "x_line = np.linspace(min(x), max(x), 100)  # Generate 100 points along x for the line\n",
    "y_line = w_1 * x_line + w_0  # Calculate the corresponding y values\n",
    "plt.plot(x_line, y_line, color='red', label=f'Line: y = {w_1}x + {w_0}')  # Line plot\n",
    "\n",
    "# Step 6: Add labels, title, and legend\n",
    "plt.xlabel('X values')\n",
    "plt.ylabel('Y values')\n",
    "plt.title('Scatter Plot with Line')\n",
    "\n",
    "plt.legend()  # Display the legend"
   ]
  },
  {
   "cell_type": "code",
   "execution_count": null,
   "id": "c4e1c8c3",
   "metadata": {},
   "outputs": [],
   "source": []
  }
 ],
 "metadata": {
  "kernelspec": {
   "display_name": "Python 3 (ipykernel)",
   "language": "python",
   "name": "python3"
  },
  "language_info": {
   "codemirror_mode": {
    "name": "ipython",
    "version": 3
   },
   "file_extension": ".py",
   "mimetype": "text/x-python",
   "name": "python",
   "nbconvert_exporter": "python",
   "pygments_lexer": "ipython3",
   "version": "3.9.13"
  }
 },
 "nbformat": 4,
 "nbformat_minor": 5
}
