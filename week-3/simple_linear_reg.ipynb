{
 "cells": [
  {
   "cell_type": "markdown",
   "id": "6fe777d6",
   "metadata": {},
   "source": [
    "# Simple Linear Regression\n",
    "\n",
    "In this notebook the goal is to get you to do some simple linear regression using some of the numpy skills you aquired last week. First we will go through the basic operations in numpy you might need (I am not giving anything away), then it is up to you to use what you learned so construct the least squares estimate for a simulated dataset."
   ]
  },
  {
   "cell_type": "markdown",
   "id": "629c1372",
   "metadata": {},
   "source": [
    "### Some simple operations in numpy\n",
    "\n",
    "Here are some simple operations you might need for today"
   ]
  },
  {
   "cell_type": "code",
   "execution_count": null,
   "id": "da708cf5",
   "metadata": {},
   "outputs": [],
   "source": [
    "import numpy as np\n",
    "import matplotlib.pyplot as plt"
   ]
  },
  {
   "cell_type": "code",
   "execution_count": null,
   "id": "200d1d2c",
   "metadata": {},
   "outputs": [],
   "source": [
    "# compute the mean of a vector/array of data - this works for python lists and numpy arrays\n",
    "print(np.mean([0.1, 2.0, 3.0, -2.0]))\n",
    "# you can also use .mean() for numpy arrays\n",
    "a = np.array([0.1, 2.0, 3.0, -2.0])\n",
    "print(a.mean())"
   ]
  },
  {
   "cell_type": "code",
   "execution_count": null,
   "id": "644d4f38",
   "metadata": {},
   "outputs": [],
   "source": [
    "# sum the contents of an array - this works for python lists and numpy arrays\n",
    "print(np.sum([0.1, 2.0, 3.0, -2.0]))\n",
    "# you can also use .sum() for numpy arrays\n",
    "a = np.array([0.1, 2.0, 3.0, -2.0])\n",
    "print(a.sum())"
   ]
  },
  {
   "cell_type": "code",
   "execution_count": null,
   "id": "8bc4a8f4",
   "metadata": {},
   "outputs": [],
   "source": [
    "# elementwise square of an array - this works for python lists and numpy arrays\n",
    "print(np.power([0.1, 2.0, 3.0, -2.0], 2))\n",
    "# you can also use **2 notation for numpy arrays (THIS WON\"T WORK FOR PYTHON LISTS) - DONT USE ^2 this is a common mistake\n",
    "a = np.array([0.1, 2.0, 3.0, -2.0])\n",
    "print(a**2)"
   ]
  },
  {
   "cell_type": "code",
   "execution_count": null,
   "id": "5ee16c33",
   "metadata": {},
   "outputs": [],
   "source": [
    "# elementwise multiplication and division of a numpy array by a scalar - this only works for numpy arrays\n",
    "a = np.array([0.1, 2.0, 3.0, -2.0])\n",
    "print(a*2)\n",
    "print(a/2)"
   ]
  },
  {
   "cell_type": "code",
   "execution_count": null,
   "id": "8727b0d8",
   "metadata": {},
   "outputs": [],
   "source": [
    "# elementwise multiplication and division of a numpy array by another numpy array - this only works for numpy arrays\n",
    "a = np.array([0.1, 2.0, 3.0, -2.0])\n",
    "b = np.array([0.5, 1.0, 2.0, 3.0])\n",
    "print(a*b)\n",
    "print(a/b)"
   ]
  },
  {
   "cell_type": "markdown",
   "id": "aa5552e4",
   "metadata": {},
   "source": [
    "### Simple linear regression with simulated data\n",
    "\n",
    "This should be all you now need to do simple linear regression on the simulated data"
   ]
  },
  {
   "cell_type": "code",
   "execution_count": null,
   "id": "741f7513",
   "metadata": {},
   "outputs": [],
   "source": [
    "# Simulated Data (DONT CHANGE THIS CODE!)\n",
    "N = 10\n",
    "f = lambda x: 0.2 + 1.4 * x\n",
    "x = np.linspace(0.0, 5.0, num=N)\n",
    "y = f(x) + np.random.randn(N)"
   ]
  },
  {
   "cell_type": "code",
   "execution_count": null,
   "id": "b8bd4bbd",
   "metadata": {},
   "outputs": [],
   "source": [
    "# The data points are stored in the numpy arrays x and y\n",
    "print(x)\n",
    "print(y)"
   ]
  },
  {
   "cell_type": "code",
   "execution_count": null,
   "id": "a710865a",
   "metadata": {},
   "outputs": [],
   "source": [
    "# remeber we are trying to predict y given x, let's plot the datapoints out\n",
    "\n",
    "plt.scatter(x, y, color='blue', label='Data Points') \n",
    "\n",
    "plt.xlabel('X values')\n",
    "plt.ylabel('Y values')\n",
    "plt.title('Scatter Plot the Datapoints')\n",
    "plt.legend()"
   ]
  },
  {
   "cell_type": "markdown",
   "id": "5f234a7a",
   "metadata": {},
   "source": [
    "### Now its your turn\n",
    "\n",
    "Now it is up to you to derive the least squares estimate for the y-intercept w0 and the slope/gradient w1 (no cheating ;))"
   ]
  },
  {
   "cell_type": "code",
   "execution_count": null,
   "id": "c59a35eb",
   "metadata": {},
   "outputs": [],
   "source": [
    "# Your code goes here\n",
    "\n",
    "#w_0 = ?\n",
    "#w_1 = ?\n"
   ]
  },
  {
   "cell_type": "code",
   "execution_count": null,
   "id": "2399d917",
   "metadata": {},
   "outputs": [],
   "source": [
    "# Plotting the result - let's see how well your line fits the data\n",
    "\n",
    "plt.scatter(x, y, color='blue', label='Data Points')\n",
    "\n",
    "x_line = np.linspace(min(x), max(x), 100)  # Generate 100 points along x for the line\n",
    "y_line = w_1 * x_line + w_0  # Calculate the corresponding y values\n",
    "plt.plot(x_line, y_line, color='red', label=f'Line: y = {w_1}x + {w_0}')  # Line plot\n",
    "\n",
    "# Step 6: Add labels, title, and legend\n",
    "plt.xlabel('X values')\n",
    "plt.ylabel('Y values')\n",
    "plt.title('Scatter Plot with Line')\n",
    "\n",
    "plt.legend()  # Display the legend"
   ]
  },
  {
   "cell_type": "code",
   "execution_count": null,
   "id": "c4e1c8c3",
   "metadata": {},
   "outputs": [],
   "source": []
  }
 ],
 "metadata": {
  "kernelspec": {
   "display_name": "Python 3 (ipykernel)",
   "language": "python",
   "name": "python3"
  },
  "language_info": {
   "codemirror_mode": {
    "name": "ipython",
    "version": 3
   },
   "file_extension": ".py",
   "mimetype": "text/x-python",
   "name": "python",
   "nbconvert_exporter": "python",
   "pygments_lexer": "ipython3",
   "version": "3.9.13"
  }
 },
 "nbformat": 4,
 "nbformat_minor": 5
}
