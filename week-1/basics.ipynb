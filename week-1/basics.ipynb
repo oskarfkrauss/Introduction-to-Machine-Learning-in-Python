{
 "cells": [
  {
   "cell_type": "markdown",
   "id": "ba44dbc4-b492-472e-bbb5-196cc15eb879",
   "metadata": {},
   "source": [
    "## Basic Python Programming \n",
    "\n",
    "The aim of this notebook it to get your familiar with basic programming opertaions in python"
   ]
  },
  {
   "cell_type": "markdown",
   "id": "ee0505e1-e7c5-4b05-8882-0ccfa97c606f",
   "metadata": {},
   "source": [
    "### Arithmetic\n",
    "\n",
    "More info: (http://bit.ly/2dB0bk3)"
   ]
  },
  {
   "cell_type": "code",
   "execution_count": 3,
   "id": "ec034792-8fb9-453e-81db-bb466fdceb87",
   "metadata": {},
   "outputs": [
    {
     "name": "stdout",
     "output_type": "stream",
     "text": [
      "1\n"
     ]
    }
   ],
   "source": [
    "# variable assignment\n",
    "# we can assign values to variables\n",
    "x = 1\n",
    "print(x)"
   ]
  },
  {
   "cell_type": "code",
   "execution_count": 4,
   "id": "4ba467e3-a413-4a29-96c7-e8330791de2f",
   "metadata": {},
   "outputs": [
    {
     "name": "stdout",
     "output_type": "stream",
     "text": [
      "5\n",
      "5\n"
     ]
    }
   ],
   "source": [
    "# addition\n",
    "# we can add numbers up\n",
    "print(2+3)\n",
    "# for variables we can do the same \n",
    "x = 2\n",
    "y = 3\n",
    "z = x + y\n",
    "print(z)"
   ]
  },
  {
   "cell_type": "code",
   "execution_count": 5,
   "id": "73048f6f-ec48-41e0-b333-ecf8706b78df",
   "metadata": {},
   "outputs": [
    {
     "name": "stdout",
     "output_type": "stream",
     "text": [
      "6\n",
      "5\n"
     ]
    }
   ],
   "source": [
    "# multiplication\n",
    "# we can multiply numbers together\n",
    "print(2*3)\n",
    "x = 2\n",
    "y = 3\n",
    "x = x * y\n",
    "print(z)"
   ]
  },
  {
   "cell_type": "code",
   "execution_count": 6,
   "id": "b4f7f457-3951-4bfd-a830-8ab5d20edee5",
   "metadata": {},
   "outputs": [
    {
     "name": "stdout",
     "output_type": "stream",
     "text": [
      "2.5\n",
      "4\n",
      "2\n",
      "0\n"
     ]
    }
   ],
   "source": [
    "# division\n",
    "# we can divide numbers\n",
    "print(5/2)\n",
    "# we can do integer division\n",
    "# this rounds down the output to the nearest integer\n",
    "print(14//3)\n",
    "# we can do modular division\n",
    "# this prints the remainder of the division operartion\n",
    "print(14%3)\n",
    "# 12 divides by 3\n",
    "print(12%3)"
   ]
  },
  {
   "cell_type": "code",
   "execution_count": 7,
   "id": "ed59655f-5bb2-47dd-9d0f-975f7b96f858",
   "metadata": {},
   "outputs": [
    {
     "name": "stdout",
     "output_type": "stream",
     "text": [
      "16\n",
      "32\n"
     ]
    }
   ],
   "source": [
    "# exponents\n",
    "# we can raise a number to the power of 2\n",
    "print(4**2)\n",
    "# we can raise a number to the power of x\n",
    "x= 5\n",
    "print(2**x)"
   ]
  },
  {
   "cell_type": "code",
   "execution_count": 8,
   "id": "4afb53e0-bc0a-4bf1-b886-dc8269e92dcd",
   "metadata": {},
   "outputs": [
    {
     "name": "stdout",
     "output_type": "stream",
     "text": [
      "3.2\n",
      "1\n",
      "89\n"
     ]
    }
   ],
   "source": [
    "# other useful operations\n",
    "# absolute value\n",
    "print(abs(-3.2))\n",
    "# minimum\n",
    "print(min(4,5,6,1))\n",
    "# maximum\n",
    "print(max(23,56,34,89))"
   ]
  },
  {
   "cell_type": "markdown",
   "id": "18fe1dfe-ae64-4180-91ce-624f6e097f83",
   "metadata": {},
   "source": [
    "### Boolean expressions\n",
    "\n",
    "More info: (http://bit.ly/2cPSdiA)"
   ]
  },
  {
   "cell_type": "code",
   "execution_count": 10,
   "id": "72e054ba-58f5-49cc-a2b1-673d3f750350",
   "metadata": {},
   "outputs": [
    {
     "name": "stdout",
     "output_type": "stream",
     "text": [
      "True\n",
      "False\n",
      "False\n",
      "True\n",
      "True\n",
      "False\n",
      "True\n"
     ]
    }
   ],
   "source": [
    "# simple expressions\n",
    "print(2 < 3)\n",
    "print(2 > 3)\n",
    "print(2 == 3)\n",
    "print(2 != 3)\n",
    "print(2 <= 3)\n",
    "print(2 >= 3)\n",
    "print(2+4 == 2*(9/3))"
   ]
  },
  {
   "cell_type": "code",
   "execution_count": 11,
   "id": "8dcf7991-4948-4ad7-a3ad-5277fe8c88d4",
   "metadata": {},
   "outputs": [
    {
     "name": "stdout",
     "output_type": "stream",
     "text": [
      "True\n",
      "False\n",
      "False\n",
      "True\n",
      "True\n",
      "True\n",
      "False\n",
      "False\n",
      "False\n",
      "True\n",
      "True\n"
     ]
    }
   ],
   "source": [
    "# logical connectives\n",
    "print(2 < 3 and 3 < 4)\n",
    "print(4 == 5 and 3 < 5)\n",
    "print(False and True)\n",
    "print(True and True)\n",
    "print(4 == 5 or 3 < 4)\n",
    "print(False or True)\n",
    "print(False or False)\n",
    "print(not (3 < 4))\n",
    "print(not True)\n",
    "print(not False)\n",
    "print(4 + 1 == 5 or 4 - 1 < 4)"
   ]
  },
  {
   "cell_type": "markdown",
   "id": "07b7f3eb-8d88-4af4-9a0a-3a289e248b6b",
   "metadata": {},
   "source": [
    "## Exercises\n",
    "\n",
    "Compute the following with python code:\n",
    "\n",
    "``` a) The difference between Annie’s age (25) and \r\n",
    "Ellie’s (21).\r\n",
    " b) The total of $14.99, $27.95, and $19.83.\r\n",
    " c) The area of a rectangle of length 20 and width \r\n",
    "15.\r\n",
    " d) 2 to the 10th power.\r\n",
    " e) The minimum of 3, 1, 8, -2, 5, -3, and 0.\r\n",
    " f) 3 equals 4-2.\r\n",
    " g) The value of 17//5 is 3.\r\n",
    " h) The value of 17%5 is 3.\r\n",
    " i) 284 is even.\r\n",
    " j) 284 is even and 284 is divisible by 3.\r\n",
    " k) 284 is even o84 is div```isible by 3.ible by 3."
   ]
  },
  {
   "cell_type": "code",
   "execution_count": null,
   "id": "ca3ccc24-2d43-40e4-a93d-30c27e4ed45f",
   "metadata": {},
   "outputs": [],
   "source": []
  },
  {
   "cell_type": "markdown",
   "id": "76baa4cf-7874-404f-8ff4-97a83c20bf33",
   "metadata": {},
   "source": [
    "### Variable Assinments and Types\n",
    "\n",
    "We consider the three most important types:\n",
    "- ```int``` - an integer which is a number without decimal places.\n",
    "- ```float``` - a real value which is a number with decimal places.\n",
    "- ```bool``` - a boolean value which has value either ```True``` or ```False```\n",
    "\n",
    "More info: (http://bit.ly/2dOZkKg)"
   ]
  },
  {
   "cell_type": "code",
   "execution_count": 14,
   "id": "e9be81e6-c22a-4b0b-b826-428c344d0b4f",
   "metadata": {},
   "outputs": [
    {
     "name": "stdout",
     "output_type": "stream",
     "text": [
      "4\n",
      "0.5\n",
      "False\n",
      "4.0\n",
      "5\n",
      "5.0\n"
     ]
    }
   ],
   "source": [
    "# we can assign values to variables as before\n",
    "x = 4 # x has type int\n",
    "y = 0.5 # y has type float\n",
    "z = x == y # z has type bool\n",
    "print(x)\n",
    "print(y)\n",
    "print(z)\n",
    "y = 1\n",
    "z = x / y # division always returns a float\n",
    "print(z)\n",
    "z = y + x # int + int returns int\n",
    "print(z)\n",
    "y = 1.0\n",
    "z = x + y # int + float returns float\n",
    "print(z)\n"
   ]
  },
  {
   "cell_type": "markdown",
   "id": "8f5d58f6-d4a1-4a3f-a114-fe6e2b8861dc",
   "metadata": {},
   "source": [
    "#### Strings\n",
    "\n",
    "More info: (http://bit.ly/2dbk8ur)"
   ]
  },
  {
   "cell_type": "code",
   "execution_count": 16,
   "id": "dc44a1ef-01b8-4259-8a22-368681c2141e",
   "metadata": {},
   "outputs": [
    {
     "name": "stdout",
     "output_type": "stream",
     "text": [
      "Hello world\n",
      "Hello world\n",
      "Hello\n"
     ]
    }
   ],
   "source": [
    "# strings\n",
    "# we can define a string using single or double quotation marks\n",
    "print('Hello world')\n",
    "print(\"Hello world\")\n",
    "# we can assing a variable a string value\n",
    "my_string = \"Hello\"\n",
    "print(my_string)"
   ]
  },
  {
   "cell_type": "code",
   "execution_count": 17,
   "id": "b224d66f-4617-4050-8966-d9b77c497911",
   "metadata": {},
   "outputs": [
    {
     "name": "stdout",
     "output_type": "stream",
     "text": [
      "True\n",
      "True\n",
      "False\n",
      "True\n",
      "rockclimbing\n",
      "rock climbing\n",
      "rockrockrockrockrock\n",
      "______________________________\n",
      "True\n",
      "True\n",
      "8\n"
     ]
    }
   ],
   "source": [
    "# string operartions\n",
    "s = 'rock'\n",
    "t = 'climbing'\n",
    "print(s == 'rock')\n",
    "print(s != t)\n",
    "print(s < t) # does s come before t in alphanumeric ordering\n",
    "print(s > t) # does s come after t in alphanumeric ordering\n",
    "print(s + t)\n",
    "print(s + ' ' + t)\n",
    "print(5*s)\n",
    "print(30 * '_')\n",
    "print('o' in s) # is the subsrting 'o' in s\n",
    "print('bi' in t) # is the substring 'bi' in t\n",
    "print(len(t)) # what is the length of t"
   ]
  },
  {
   "cell_type": "markdown",
   "id": "1439e519-d635-4b19-8ec1-515eae646636",
   "metadata": {},
   "source": [
    "## Exercises\n",
    "\n",
    "```Write Python expressions involving \r\n",
    "strings s1, s2, and s3 that \r\n",
    "correspond to:\r\n",
    " a) 'll' appears in s3\r\n",
    " b) the blank space does not \r\n",
    "appear in s1\r\n",
    " c) the concatenation of s1, s2, \r\n",
    "and s3\r\n",
    " d) the blank space appears in the \r\n",
    "concatenation of s1, s2, and \r\n",
    "s3\r\n",
    " e) the concatenation of 10 copies \r\n",
    "of s3\r\n",
    " f) the total number of characters \r\n",
    "in the concaation of s1```, s2, \r\n",
    "and s3."
   ]
  },
  {
   "cell_type": "code",
   "execution_count": 19,
   "id": "ff414cb9-c599-4788-9cb6-953d4c91da34",
   "metadata": {},
   "outputs": [],
   "source": [
    "s1 = 'good'\n",
    "s2 = 'bad'\n",
    "s3 = 'silly'"
   ]
  },
  {
   "cell_type": "markdown",
   "id": "de2544c3-6455-4a77-9ec5-dde6b548844d",
   "metadata": {},
   "source": [
    "### Indexing"
   ]
  },
  {
   "cell_type": "code",
   "execution_count": 21,
   "id": "6e877dfc-f9b1-4907-93b3-be5ef8a810a6",
   "metadata": {},
   "outputs": [
    {
     "name": "stdout",
     "output_type": "stream",
     "text": [
      "A\n",
      "p\n",
      "e\n",
      "l\n"
     ]
    }
   ],
   "source": [
    "s = 'Apple'\n",
    "print(s[0]) # the 1st character of s\n",
    "print(s[1]) # the 2nd character of s\n",
    "print(s[-1]) # the last character of s\n",
    "print(s[-2]) # the 2nd last character of s"
   ]
  },
  {
   "cell_type": "markdown",
   "id": "91078a9c-5330-4885-a04f-89401dc3707a",
   "metadata": {},
   "source": [
    "## Exercise\n",
    "\n",
    "```String s is defined to be\n",
    " 'abcdefgh'\n",
    " Write expressions using s and the \n",
    "indexing operator [] that return the \n",
    "following strings:\n",
    " a) 'a'\n",
    " b) 'c'\n",
    " c) 'h'\n",
    " d) 'f'```"
   ]
  },
  {
   "cell_type": "code",
   "execution_count": 23,
   "id": "3ac66c0d-c047-4144-949a-ce0d7fb33ae8",
   "metadata": {},
   "outputs": [],
   "source": [
    "s = 'abcdefgh'"
   ]
  },
  {
   "cell_type": "markdown",
   "id": "2f15c604-eb06-4a0c-ae2e-c2ca5516659c",
   "metadata": {},
   "source": [
    "### Lists\n",
    "\n",
    "More info: (http://bit.ly/2dbjPQf) and (http:// bit.ly/2dGxhRk)"
   ]
  },
  {
   "cell_type": "code",
   "execution_count": 25,
   "id": "39d6c6aa-6329-4a0b-911c-4369c1545ecc",
   "metadata": {},
   "outputs": [],
   "source": [
    "# lists can be lists of integers, booleans, strings, floats\n",
    "pets = ['ant', 'bat', 'cod', 'dog', 'elk']\n",
    "nums = [0, 1, 2, 3, 4, 5, 6, 7, 8, 9, 10]\n",
    "bools = [True, False, True, False, False, False]\n",
    "vals = [1.0, 3.4, 5.2, 1.3, 0.5, -3.2]"
   ]
  },
  {
   "cell_type": "code",
   "execution_count": 26,
   "id": "66417488-2c90-472b-8141-3053dbc9e431",
   "metadata": {},
   "outputs": [
    {
     "name": "stdout",
     "output_type": "stream",
     "text": [
      "0\n",
      "[4, 'five']\n",
      "True\n",
      "False\n",
      "True\n"
     ]
    }
   ],
   "source": [
    "# you can define lists of different types\n",
    "lst = [0, 1, 'two', 'three', [4, 'five']]\n",
    "print(lst[0])\n",
    "print(lst[-1])\n",
    "print('two' in lst)\n",
    "print('five' in lst)\n",
    "print('five' in lst[-1])"
   ]
  },
  {
   "cell_type": "code",
   "execution_count": 27,
   "id": "26a0d8a6-176f-4d5e-92ba-dc1417ce6496",
   "metadata": {},
   "outputs": [
    {
     "name": "stdout",
     "output_type": "stream",
     "text": [
      "True\n",
      "False\n",
      "[0, 1, 2, 3, 4, 5, 6, 7, 8, 9, 10, 1.0, 3.4, 5.2, 1.3, 0.5, -3.2]\n",
      "[0, 1, 2, 3, 4, 5, 6, 7, 8, 9, 10, 0, 1, 2, 3, 4, 5, 6, 7, 8, 9, 10, 0, 1, 2, 3, 4, 5, 6, 7, 8, 9, 10]\n",
      "-3.2\n",
      "10\n",
      "8.2\n",
      "2\n"
     ]
    }
   ],
   "source": [
    "# list operations\n",
    "print('ant' in pets)\n",
    "print('cod' not in pets)\n",
    "print(nums + vals)\n",
    "print(nums*3)\n",
    "print(min(vals))\n",
    "print(max(nums))\n",
    "print(sum(vals))\n",
    "print(sum(bools))"
   ]
  },
  {
   "cell_type": "code",
   "execution_count": 28,
   "id": "06f17698-3f03-45cd-a80a-1bf3e0699c0c",
   "metadata": {},
   "outputs": [
    {
     "name": "stdout",
     "output_type": "stream",
     "text": [
      "['ant', 'bat', 'cod', 'dog', 'elk']\n",
      "['ant', 'cat', 'cod', 'dog', 'elk']\n",
      "elk\n"
     ]
    },
    {
     "ename": "TypeError",
     "evalue": "'str' object does not support item assignment",
     "output_type": "error",
     "traceback": [
      "\u001b[1;31m---------------------------------------------------------------------------\u001b[0m",
      "\u001b[1;31mTypeError\u001b[0m                                 Traceback (most recent call last)",
      "Cell \u001b[1;32mIn[28], line 8\u001b[0m\n\u001b[0;32m      6\u001b[0m pet \u001b[38;5;241m=\u001b[39m pets[\u001b[38;5;241m-\u001b[39m\u001b[38;5;241m1\u001b[39m]\n\u001b[0;32m      7\u001b[0m \u001b[38;5;28mprint\u001b[39m(pet)\n\u001b[1;32m----> 8\u001b[0m pet[\u001b[38;5;241m2\u001b[39m]\u001b[38;5;241m=\u001b[39m\u001b[38;5;124m'\u001b[39m\u001b[38;5;124mm\u001b[39m\u001b[38;5;124m'\u001b[39m\n\u001b[0;32m      9\u001b[0m \u001b[38;5;28mprint\u001b[39m(pet)\n",
      "\u001b[1;31mTypeError\u001b[0m: 'str' object does not support item assignment"
     ]
    }
   ],
   "source": [
    "# lists are mutable strings are not!!!\n",
    "pets = ['ant', 'bat', 'cod', 'dog', 'elk']\n",
    "print(pets)\n",
    "pets[1] = 'cat'\n",
    "print(pets)\n",
    "pet = pets[-1]\n",
    "print(pet)\n",
    "pet[2]='m'\n",
    "print(pet)\n"
   ]
  },
  {
   "cell_type": "code",
   "execution_count": null,
   "id": "995d152f-250c-405a-9d48-d140bc9c16eb",
   "metadata": {},
   "outputs": [],
   "source": [
    "# list methods\n",
    "print(nums)\n",
    "nums.append(11) # append 11 to the end of a list\n",
    "print(nums)\n",
    "print(bools.count(False)) # count the number of occurences of False in a list\n",
    "print(bools.index(False)) # find the index of the first occurrence of False in a list\n",
    "print(nums.pop()) # removes and returns the last index of a list\n",
    "print(nums)\n",
    "vals.remove(1.0) # removes the first occurrence of 1.0 in a list\n",
    "print(vals)\n",
    "vals.reverse() # reverses the order of a list\n",
    "print(vals)\n",
    "vals.sort() # sorts a list\n",
    "print(vals)"
   ]
  },
  {
   "cell_type": "markdown",
   "id": "dce623e6-c803-4d3b-bf06-2db782756cff",
   "metadata": {},
   "source": [
    "## Exercises\n",
    "\n",
    "```\n",
    "List lst is a list of prices for a pair of boots at different online retailers \n",
    "\n",
    "a) You found another retailer selling the \n",
    "boots for $160.00; add this price to list \n",
    "lst\n",
    " b) Compute the number of retailers \n",
    "selling the boots for $160.00\n",
    " c) Find the minimum price in lst\n",
    " d) Using c), find the index of the \n",
    "minimum price in list lst  \n",
    "e) Using c) remove the minimum price \n",
    "from list lst\n",
    " f) Sort list lst in increasing order"
   ]
  },
  {
   "cell_type": "code",
   "execution_count": null,
   "id": "97b330df-742d-416b-b5be-786e3a0a6aa0",
   "metadata": {},
   "outputs": [],
   "source": [
    "lst = [159.99, 160.00, 205.95, 128.83, 175.49]"
   ]
  },
  {
   "cell_type": "markdown",
   "id": "ed153512-0f39-4bc8-aca0-d2d1187e22ac",
   "metadata": {},
   "source": [
    "### Objects and classes\n",
    "\n",
    "In Python every value and variable wther a simple integer like 3 or a complex list is sorted in memory as an object.ct.ct.ct."
   ]
  },
  {
   "cell_type": "code",
   "execution_count": null,
   "id": "11434471-fdb6-47d4-85ff-4afacc7205cc",
   "metadata": {},
   "outputs": [],
   "source": [
    "# we can print the type of an object\n",
    "a = 3\n",
    "b = 3.0\n",
    "c = 'three'\n",
    "d = [1, 2, 3]\n",
    "print(type(a))\n",
    "print(type(b))\n",
    "print(type(c))\n",
    "print(type(d))"
   ]
  },
  {
   "cell_type": "code",
   "execution_count": null,
   "id": "3b19f249-04e3-4de2-aad0-c0cecc1e4e2f",
   "metadata": {},
   "outputs": [],
   "source": [
    "# we can convert one type to another \n",
    "a = 3.0\n",
    "b = '89'\n",
    "print(str(a))\n",
    "print(int(a))\n",
    "print(int(b))\n",
    "print(float(b))\n",
    "print(list(b))"
   ]
  },
  {
   "cell_type": "markdown",
   "id": "5f4eb63c-f446-43c7-ab84-e8b726b42f5f",
   "metadata": {},
   "source": [
    "### Python standard library and math module"
   ]
  },
  {
   "cell_type": "code",
   "execution_count": null,
   "id": "bfab02c1-4298-4f68-9ade-210f7b231acb",
   "metadata": {},
   "outputs": [],
   "source": [
    "# we need to import the math module\n",
    "import math\n",
    "print(math.sqrt(2.0)) # square root of 4\n",
    "print(math.cos(0)) # cosine of 0\n",
    "print(math.log(8)) # natural logarithm of 8\n",
    "print(math.log(8, 2)) # log of 8 base 2\n",
    "print(math.pi) # pi\n",
    "print(math.e)\n",
    "print(math.log(math.e))"
   ]
  },
  {
   "cell_type": "markdown",
   "id": "30b34782-f925-488f-980c-b78b33ed57e9",
   "metadata": {},
   "source": [
    "## Exercises\n",
    "\n",
    "``` Write a Python expression that assigns \r\n",
    "to variable c\r\n",
    " a) The length of the hypotenuse in a \r\n",
    "right triangle whose other two sides \r\n",
    "have lengths 3 and 4\r\n",
    " b) The value of the Boolean expression \r\n",
    "that evaluates whether the length \r\n",
    "of the above hypotenuse is 5\r\n",
    " c) The area of a disk of radius 10\r\n",
    " d) The value of the Boolean expression \r\n",
    "that checks whether a point with \r\n",
    "coordinates (5, 5) is inside a circle \r\n",
    "with cer (0,0) a```nd radius 7."
   ]
  },
  {
   "cell_type": "code",
   "execution_count": null,
   "id": "04817f46-2dbf-4a72-a174-0ac477537d4e",
   "metadata": {},
   "outputs": [],
   "source": [
    "c = 0\n",
    "print(c)"
   ]
  },
  {
   "cell_type": "markdown",
   "id": "fdedb63f-9845-447a-a0ac-28be3db5c437",
   "metadata": {},
   "source": [
    "## Need more?\n",
    "\n",
    "Try one of these:\r",
    "-  The official Python pages: http://bit.ly/2dNVmFG - • Learn Python the Hard Way book: http://bit.ly/2dFjCER (Python 2.7-  • A Byte of Python book: http://bit.ly/2dsnJ9- \r\n",
    "• Try out the Codecademy course: http://bit.ly/2cPCG7s (Python 2- \r\n",
    " • Or a video series on YouTube: http://bit.ly/2dXg4d - 11\r\n",
    " • Need a different approach? Why not work through the Camridge \r\n",
    "Engineering tutorial alongsi e these slides: http://bit.ly/2dsnZFg Pytho- \n",
    "2.7)\r\n",
    " • Or try a Python-based game: CheckIO (http://bit.ly/2dNWokT) r Empire \r\n",
    "of Code (http://bit.ly/2dXMwnT).ly/2dXMwnT)"
   ]
  }
 ],
 "metadata": {
  "kernelspec": {
   "display_name": "Python 3 (ipykernel)",
   "language": "python",
   "name": "python3"
  },
  "language_info": {
   "codemirror_mode": {
    "name": "ipython",
    "version": 3
   },
   "file_extension": ".py",
   "mimetype": "text/x-python",
   "name": "python",
   "nbconvert_exporter": "python",
   "pygments_lexer": "ipython3",
   "version": "3.12.4"
  }
 },
 "nbformat": 4,
 "nbformat_minor": 5
}
