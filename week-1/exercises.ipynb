{
 "cells": [
  {
   "cell_type": "markdown",
   "id": "63a71017-d1e3-42ef-b09d-47ec651b2cb3",
   "metadata": {},
   "source": [
    "## Python Programming \n",
    "\n",
    "The aim of this notebook it to get your familiar with control flow, loops, functions and classes in python."
   ]
  },
  {
   "cell_type": "markdown",
   "id": "004c904d-0e06-420a-aaf4-ed89ba72a4c8",
   "metadata": {},
   "source": [
    "## Control flow\n",
    "\n",
    "Control flow in python is typically done by using if statements.\n",
    "\n",
    "More info: (https://docs.python.org/3/tutorial/controlflow.html#if-statements)aH\n",
    "\n",
    "```\n",
    "if <condition>:\r",
    "     <indented code block>\n",
    " <non-indented statemt>t>"
   ]
  },
  {
   "cell_type": "code",
   "execution_count": null,
   "id": "86b603fb-0aa8-4515-819f-b304713f3690",
   "metadata": {},
   "outputs": [],
   "source": [
    "# simple if statement\n",
    "x = 6\n",
    "y = 5\n",
    "if x > y:\n",
    "    print('x is greater than y')"
   ]
  },
  {
   "cell_type": "code",
   "execution_count": null,
   "id": "49244b6b-92cd-4b74-9fc2-4a2f93c64450",
   "metadata": {},
   "outputs": [],
   "source": [
    "# if else statement\n",
    "x = 4\n",
    "y = 5\n",
    "if x > y:\n",
    "    print('x is greater than y')\n",
    "else:\n",
    "    print('y is greater than or equal to x')"
   ]
  },
  {
   "cell_type": "code",
   "execution_count": null,
   "id": "6b1c6912-9f2e-464f-b7b3-d5e7c5b14a3c",
   "metadata": {},
   "outputs": [],
   "source": [
    "# more complicated if else statement\n",
    "x = 5\n",
    "y = 5\n",
    "if x > y:\n",
    "    print('x is greater than y')\n",
    "elif x == y:\n",
    "    print('x is equal to y')\n",
    "else:\n",
    "    print('y is greater x')"
   ]
  },
  {
   "cell_type": "markdown",
   "id": "51999c6c-f6b2-487c-ae75-9d04eabf8ecc",
   "metadata": {},
   "source": [
    "## Exercises\n",
    "\n",
    "```\n",
    "Write corresponding if statements:\r\n",
    " a) If age is greater than 62 then print 'You can get Social Security benefits’\r\n",
    " b) If string 'large bonuses' appears in string report then print 'Vacation time!’\r\n",
    " c) If hits is greater than 10 and shield is 0 then print \"You're dead...\""
   ]
  },
  {
   "cell_type": "code",
   "execution_count": null,
   "id": "ee37fdf3-379e-4568-9ac7-57a8c78826cc",
   "metadata": {},
   "outputs": [],
   "source": [
    "age = 50\n",
    "string = 'large bonuses'\n",
    "hits = 9"
   ]
  },
  {
   "cell_type": "markdown",
   "id": "9941d5b8-6d3f-4c8a-a372-5379f38d014f",
   "metadata": {},
   "source": [
    "## Looping and iterating\n",
    "\n",
    "In python we can loop or iterate over lists and other objects using foor loops and while loops.\n",
    "\n",
    "More info: (https://docs.python.org/3/tutorial/controlflow.html#for-statements)"
   ]
  },
  {
   "cell_type": "code",
   "execution_count": null,
   "id": "ad0634dc-f774-4f32-bf43-d65aa355af05",
   "metadata": {},
   "outputs": [],
   "source": [
    "# looping over strings\n",
    "string = 'Apple'\n",
    "for char in string:\n",
    "    print(char)"
   ]
  },
  {
   "cell_type": "code",
   "execution_count": null,
   "id": "0c66e55b-ddc9-4bbf-8001-9e16fb7854a4",
   "metadata": {},
   "outputs": [],
   "source": [
    "# looping over lists\n",
    "lst = ['stop', 'desktop', 'post', 'top']\n",
    "\n",
    "for item in lst:\n",
    "    print(item)"
   ]
  },
  {
   "cell_type": "code",
   "execution_count": null,
   "id": "9edaa1ef-ff45-49f6-9e62-0dc5b85456b0",
   "metadata": {},
   "outputs": [],
   "source": [
    "# looping with control flow\n",
    "for item in lst:\n",
    "    if item == 'desktop':\n",
    "        print(item)"
   ]
  },
  {
   "cell_type": "code",
   "execution_count": null,
   "id": "20bbf408-f41c-476d-abe1-1a82529f8aea",
   "metadata": {},
   "outputs": [],
   "source": [
    "# looping with control flow and range\n",
    "lst = ['stop', 'desktop', 'post', 'top']\n",
    "for i in range(len(lst)):\n",
    "    print(lst[i])"
   ]
  },
  {
   "cell_type": "code",
   "execution_count": null,
   "id": "770337a1-3126-4af1-8ab7-93398d991d7f",
   "metadata": {},
   "outputs": [],
   "source": [
    "# printing numbers with range\n",
    "for i in range(10):\n",
    "    print(i)"
   ]
  },
  {
   "cell_type": "code",
   "execution_count": null,
   "id": "a1a908d1-4624-4d0e-88e6-d598e3384ae5",
   "metadata": {},
   "outputs": [],
   "source": [
    "# printing numbers with range\n",
    "for i in range(10,20):\n",
    "    print(i)"
   ]
  },
  {
   "cell_type": "code",
   "execution_count": null,
   "id": "a508aad9-460e-4484-bb77-f364083209c2",
   "metadata": {},
   "outputs": [],
   "source": [
    "# printing numbers with range\n",
    "for i in range(20, 10, -1): # -1 means we go down by one each step\n",
    "    print(i)"
   ]
  },
  {
   "cell_type": "markdown",
   "id": "a875ac8c-c94d-4b8c-95fb-d2b19cb1dc98",
   "metadata": {},
   "source": [
    "## Exercises\n",
    "\n",
    "```\n",
    "Write for loops that will print the following sequences:\r\n",
    " a) 0, 1, 2, 3, 4, 5, 6, 7, 8 , 9, 10\r\n",
    " b) 1, 2, 3, 4, 5, 6, 7, 8, 9\r\n",
    " c) 0, 2, 4, 6, 8\r\n",
    " d) 1, 3, 5, 7, 9\r\n",
    " e) 20, 30, 40, 50, 60"
   ]
  },
  {
   "cell_type": "code",
   "execution_count": null,
   "id": "44c94055-c3c4-479b-a6ec-a00578b82b8f",
   "metadata": {},
   "outputs": [],
   "source": []
  },
  {
   "cell_type": "code",
   "execution_count": null,
   "id": "161c336e-8c38-40a6-b130-b51a4a6ed327",
   "metadata": {},
   "outputs": [],
   "source": [
    "# accumulator loop\n",
    "lst = [3, 2, 7, 1, 9]\n",
    "result = 0\n",
    "for num in lst:\n",
    "    result += num # this is equal to result = result + num\n",
    "\n",
    "print(result)"
   ]
  },
  {
   "cell_type": "code",
   "execution_count": null,
   "id": "fed3037c-3d0e-4975-a708-82ec063cb68f",
   "metadata": {},
   "outputs": [],
   "source": [
    "# accumulator loop\n",
    "lst = [3, 2, 7, 1, 9]\n",
    "result = 1\n",
    "for num in lst:\n",
    "    result *= num # this is equal to result = result * num\n",
    "\n",
    "print(result)"
   ]
  },
  {
   "cell_type": "code",
   "execution_count": null,
   "id": "8fd448be-e42d-49e1-8837-acdfc318a9aa",
   "metadata": {},
   "outputs": [],
   "source": [
    "# nested loops\n",
    "\n",
    "for i in range(5):\n",
    "    for j in range(3):\n",
    "        print(f\"({i}, {j})\") # formats the string to print (i, j)"
   ]
  },
  {
   "cell_type": "code",
   "execution_count": null,
   "id": "4dbb1b84-b641-4f38-a327-a891ce4c8cc1",
   "metadata": {},
   "outputs": [],
   "source": [
    "# 2 dimensional lists and loops\n",
    "lst = [[3,5,7,9],\n",
    " [0,2,1,6],\n",
    " [3,8,3,1]]\n",
    "\n",
    "for i in range(len(lst)):\n",
    "    for j in range(len(lst[i])):\n",
    "        print(lst[i][j])\n"
   ]
  },
  {
   "cell_type": "markdown",
   "id": "bd56301b-5c38-4e36-a978-f7a850e0b5df",
   "metadata": {},
   "source": [
    "### While loops\n",
    "\n",
    "```\n",
    "while <condition>:\r",
    "     <indented code block>\n",
    " <non-indented statement>"
   ]
  },
  {
   "cell_type": "code",
   "execution_count": null,
   "id": "08a30b35-78ad-4a75-bf10-cb9b898bfba2",
   "metadata": {},
   "outputs": [],
   "source": [
    "i = 7\n",
    "while i <= 37: # keep iterating while i is less than 37\n",
    "    i += 7 # accumulate i \n",
    "print(i)"
   ]
  },
  {
   "cell_type": "code",
   "execution_count": null,
   "id": "1c291e94-c95b-48cd-b532-391bb547935d",
   "metadata": {},
   "outputs": [],
   "source": [
    "# break and continue statements give you more advanced control of looping control flow\n",
    "lst = [3, 2, 7, 1, 9]\n",
    "for item in lst:\n",
    "    if item > 3:\n",
    "        continue # if the item is greater than 3 go to the next loop iteration\n",
    "    print(item**2) # print item to the power of 2\n",
    "print('Loop done!')\n",
    "for item in lst:\n",
    "    if item > 3: # if the item is greater than 3 then exit the entire loop\n",
    "        break\n",
    "    print(item**2) # print item to the power of 2\n",
    "print('Loop exited!')\n"
   ]
  },
  {
   "cell_type": "code",
   "execution_count": null,
   "id": "17553427-0812-4dcd-aac4-3aafc35eeb90",
   "metadata": {},
   "outputs": [],
   "source": [
    "# we can do the same for while loops\n",
    "lst = [3, 2, 7, 1, 9]\n",
    "j = 0\n",
    "while j < len(lst):\n",
    "    if lst[j] > 3:\n",
    "        j += 1 # increment j\n",
    "        continue\n",
    "    print(lst[j]**2)\n",
    "    j += 1 # increment j\n",
    "print('Loop done!')  \n",
    "i = 7\n",
    "while True: # while true means we iterate forever unless we break out of the loop\n",
    "    i += 7\n",
    "    if i > 37:\n",
    "        break # exit out of the loop when i is greater than 37\n",
    "print('Loop exited!')\n",
    "print(i)"
   ]
  },
  {
   "cell_type": "markdown",
   "id": "5d08765c-1204-4276-867d-db068e04b831",
   "metadata": {},
   "source": [
    "## Defining functions in python\n",
    "\n",
    "In python we usually want to define functions that we can use and call later in the code and on different inputs.\n",
    "\n",
    "We have see a few built-in functions already:\n",
    "\n",
    "```\n",
    "• abs(), max(), len(),\r\n",
    " sum(), print()"
   ]
  },
  {
   "cell_type": "code",
   "execution_count": null,
   "id": "1e8fbef5-7e50-4e64-b3ae-db83a54673e2",
   "metadata": {},
   "outputs": [],
   "source": [
    "# define a simple function that takes an input x squares it and adds 10\n",
    "def f(x):\n",
    "    res = x**2 + 10\n",
    "    return res\n",
    "\n",
    "print(f(3))\n",
    "print(f(10))\n",
    "print(f(6))"
   ]
  },
  {
   "cell_type": "markdown",
   "id": "b040a858-2009-429d-b07c-05ca6217081e",
   "metadata": {},
   "source": [
    "Functions can be defined with the following block:\n",
    "\n",
    "More info: (http:// bit.ly/2dGIhcZ)\n",
    "\n",
    "```\n",
    "def <function name> (<0 or more variables>):\r",
    "     <indented function body>"
   ]
  },
  {
   "cell_type": "code",
   "execution_count": null,
   "id": "8010b708-3508-4e99-908b-58d6435e0cdd",
   "metadata": {},
   "outputs": [],
   "source": [
    "import math\n",
    "# function that computes the length of a hypotenuse (pythagoras theorem)\n",
    "def hyp(a, b):\n",
    "    res = math.sqrt(a**2 + b**2)\n",
    "    return res\n",
    "\n",
    "print(hyp(3,4))\n",
    "print(hyp(6,9))"
   ]
  },
  {
   "cell_type": "markdown",
   "id": "c9d94c9b-9fb6-4d82-acc3-b53a7fdb3486",
   "metadata": {},
   "source": [
    "## Exercise\n",
    "\n",
    "```\n",
    " Write function rng() that:\n",
    "• takes a list of numbers as input\n",
    "• returns the range of the numbers in the list\n",
    "The range is the difference between the largest and smallest number in the list\n",
    "\n"
   ]
  },
  {
   "cell_type": "code",
   "execution_count": null,
   "id": "2b34fc37-fc99-4fb0-881c-100757259045",
   "metadata": {},
   "outputs": [],
   "source": []
  },
  {
   "cell_type": "markdown",
   "id": "75a20432-32ed-484c-bb37-9791acd13087",
   "metadata": {},
   "source": [
    "## Exercise\n",
    "```\n",
    "Write function arithmetic()that:\r\n",
    " • takes as input a list of numbers\r\n",
    " • returns True if the numbers in the \r\n",
    "list form an arithmetic sequence, \r\n",
    "False otherwise"
   ]
  },
  {
   "cell_type": "code",
   "execution_count": null,
   "id": "6a7754c4-6466-45bf-a8aa-8d320c67c0d4",
   "metadata": {},
   "outputs": [],
   "source": []
  },
  {
   "cell_type": "markdown",
   "id": "b22bd21d-93ae-4f65-bcfc-ce3698a97fdd",
   "metadata": {},
   "source": [
    "## Exercise\n",
    "```\n",
    "Write function factorial() that:\r\n",
    " • takes a non-negative integer n as input\r\n",
    " • returns n!"
   ]
  },
  {
   "cell_type": "code",
   "execution_count": null,
   "id": "797ee7bc-8000-4376-982d-3af39b61e1a4",
   "metadata": {},
   "outputs": [],
   "source": []
  },
  {
   "cell_type": "markdown",
   "id": "280619e6-ce78-4cae-b629-13c32af8c529",
   "metadata": {},
   "source": [
    "## Exercise\n",
    "```\n",
    " Write function acronym() that:\r\n",
    " • takes a phrase (i.e., a string) as input\r\n",
    " • returns the acronym for the phrase"
   ]
  },
  {
   "cell_type": "code",
   "execution_count": null,
   "id": "cccdf5e7-a93b-4b2c-b4f2-b68dc092dfb9",
   "metadata": {},
   "outputs": [],
   "source": []
  },
  {
   "cell_type": "markdown",
   "id": "a8c29594-d5ff-4db1-848a-8ec7b464ac4c",
   "metadata": {},
   "source": [
    "## Exercise\n",
    "\n",
    "```\n",
    " Write function divisors() that:\r\n",
    " • takes a positive integer n as input\r\n",
    " • returns the list of positive divisors of n"
   ]
  },
  {
   "cell_type": "code",
   "execution_count": null,
   "id": "aea1e025-d691-4482-bcf0-92085b3d23d4",
   "metadata": {},
   "outputs": [],
   "source": []
  },
  {
   "cell_type": "markdown",
   "id": "4efffef7-48dd-40b2-8b6f-f09ff74dd751",
   "metadata": {},
   "source": [
    "## Exercise (advanced)\n",
    "\n",
    "https://en.wikipedia.org/wiki/Bubble_sort\n",
    "\n",
    "```\n",
    " Write function bubbleSort() that:\r\n",
    " • takes a list of numbers as input and \r\n",
    "sorts the list using BubbleSort"
   ]
  },
  {
   "cell_type": "code",
   "execution_count": null,
   "id": "f7ed1a41-5b21-4f8b-a902-eefa900d98e5",
   "metadata": {},
   "outputs": [],
   "source": []
  },
  {
   "cell_type": "markdown",
   "id": "51b818c0-05cb-4167-a0bd-9ef245f88c70",
   "metadata": {},
   "source": [
    "## Exercise\n",
    "\n",
    "```\n",
    " Write function negative() that:\r\n",
    " • takes a list of numbers as input\r\n",
    " • returns the index of the first negative number in the list \r\n",
    "or -1 if there is no negative number in the list"
   ]
  },
  {
   "cell_type": "code",
   "execution_count": null,
   "id": "9c25af0c-0638-4aa5-9e8b-34715bd9ac93",
   "metadata": {},
   "outputs": [],
   "source": []
  },
  {
   "cell_type": "markdown",
   "id": "85848de2-d746-4f5c-abf6-283bbab6380a",
   "metadata": {},
   "source": [
    "## Advanced string operations and slicing"
   ]
  },
  {
   "cell_type": "code",
   "execution_count": null,
   "id": "0bb3a7f5-6538-4693-82c7-6dcbdc2c5c00",
   "metadata": {},
   "outputs": [],
   "source": [
    "# indexing and slicing\n",
    "s = 'Apple'\n",
    "print(s[0:2]) # characters 0 to 1 \n",
    "print(s[1:4]) # characters 1 to 3\n",
    "print(s[2:5]) # characters 2 to 4\n",
    "print(s[2:]) # characters 2 and up\n",
    "print(s[:2]) # characters to up 2 (not inclusive)\n",
    "print(s[-3:-1]) # characters from the 3rd last to the 2nd last "
   ]
  },
  {
   "cell_type": "markdown",
   "id": "57b93f36-2b40-406e-97d6-5bb32bcf2d82",
   "metadata": {},
   "source": [
    "## Exercise\n",
    "\n",
    "We can do the same for lists\n",
    "\n",
    "```\n",
    "The indexing operator can also be used to obtain slices of a list as well. \r\n",
    "Let list lst refer to list\r\n",
    " ['a', 'b', 'c', 'd', 'e', 'f', 'g', 'h’]\r\n",
    " Write Python expressions using list lst and the indexing operator that \r\n",
    "evaluate to:\r\n",
    " a) ['a', 'b', 'c', 'd']\r\n",
    " b) ['d', 'e', 'f']\r\n",
    " c) ['d']\r\n",
    " d) ['f', 'g']\r\n",
    " e) ['d', 'e', 'f', 'g’, 'h']\r\n",
    " f) ['f', 'g', 'h']"
   ]
  },
  {
   "cell_type": "code",
   "execution_count": null,
   "id": "4d1c9294-27c9-48e3-9fc5-76dba836bbff",
   "metadata": {},
   "outputs": [],
   "source": [
    "lst = ['a', 'b', 'c', 'd', 'e', 'f', 'g', 'h']"
   ]
  },
  {
   "cell_type": "code",
   "execution_count": null,
   "id": "82a0e1a7-076a-439d-a8ff-5922a8a8cbeb",
   "metadata": {},
   "outputs": [],
   "source": [
    "# advanced string methods\n",
    "s = 'apple'\n",
    "print(s.capitalize()) # capitalize the string\n",
    "print(s.count('p')) # count number of ps\n",
    "print(s.find('p')) # returns index of first p\n",
    "s = 'APPLE'\n",
    "print(s.lower()) # returns lower case\n",
    "print(s.replace('PP', 'DD')) # replace all instances of 'PP' with 'DD'\n",
    "s = 'a,p,p,l,e'\n",
    "print(s.split(',')) # returns a list of substrings separated by commas ','\n",
    "s = ' ap ple    '\n",
    "print(s.strip()) # remove leadign and trailing whitespace\n",
    "print(s.upper()) # returns upper case"
   ]
  },
  {
   "cell_type": "code",
   "execution_count": null,
   "id": "25395ee4-eb2a-46d9-84e7-8c5cb0dc7f5e",
   "metadata": {},
   "outputs": [],
   "source": [
    "# formatting strings with f strings\n",
    "my_float = 0.4\n",
    "my_int = 4\n",
    "formatted_string = f\"Average score {my_float}, best score {my_int}\"\n",
    "print(formatted_string)\n",
    "# using the string format() method\n",
    "my_float = 0.445697\n",
    "my_int = 4\n",
    "formatted_string = \"Average score {:.4}, best score {}\".format(my_float, my_int) # 4 sig fig\n",
    "print(formatted_string)"
   ]
  },
  {
   "cell_type": "markdown",
   "id": "cfe6b093-4edb-4923-9ec0-9c1d523ca1cf",
   "metadata": {},
   "source": [
    "## Advanced datastructures"
   ]
  },
  {
   "cell_type": "markdown",
   "id": "ea29e072-0ca7-4cd6-86ae-1c63f4db17a6",
   "metadata": {},
   "source": [
    "## Dictionaries\n",
    "\n",
    "Dictionaries are mutable key value pairs, the values are accessed through a hash function which maps key to value very quickly. Unlike lists the values of a dictionaries are not stored in continuous blocks of memory and can't be accessed with an index and must be accessed with their key."
   ]
  },
  {
   "cell_type": "code",
   "execution_count": null,
   "id": "24eb387b-934b-42cc-8053-4c438b8c72ed",
   "metadata": {},
   "outputs": [],
   "source": [
    "# initialize and empty dictionary\n",
    "my_dict = {}\n",
    "# add a key value pair to the dictionary\n",
    "my_dict['orange'] = 10\n",
    "# print how many oranges I have\n",
    "print(my_dict['orange'])"
   ]
  },
  {
   "cell_type": "code",
   "execution_count": null,
   "id": "78339570-9817-4059-8bab-f3c78e8f6d4b",
   "metadata": {},
   "outputs": [],
   "source": [
    "days = {'Mo':1, 'Tu':2, 'W':3}\n",
    "print(days['Mo'])\n",
    "days['Th'] = 5\n",
    "print(days)\n",
    "days['Th'] = 4\n",
    "print(days) # dictionaries are mutable and can be edited in place\n",
    "print('Fr' in days)\n",
    "print(len(days))"
   ]
  },
  {
   "cell_type": "code",
   "execution_count": null,
   "id": "459c27c3-720e-443b-9811-4aa8a3045d35",
   "metadata": {},
   "outputs": [],
   "source": [
    "# iterate over keys\n",
    "for key in days:\n",
    "    print(key)\n",
    "\n",
    "# iterate over values\n",
    "for value in days.values():\n",
    "    print(value)\n",
    "\n",
    "# iterate over key value pairs:\n",
    "for key, value in days.items():\n",
    "    print(key, value)"
   ]
  },
  {
   "cell_type": "code",
   "execution_count": null,
   "id": "5e37e97d-ae61-4fa3-a9cb-3cf5776e2ae8",
   "metadata": {},
   "outputs": [],
   "source": [
    "# why dictionaries are useful\n",
    "\n",
    "def complete(abbreviation):\n",
    "    'returns day of the week corresponding to abbreviation'\n",
    "    days = {'Mo': 'Monday', 'Tu':'Tuesday', 'We': 'Wednesday',\n",
    " 'Th': 'Thursday', 'Fr': 'Friday', 'Sa': 'Saturday',\n",
    " 'Su':'Sunday'}\n",
    "    return days[abbreviation]\n",
    "\n",
    "print(complete('Su'))"
   ]
  },
  {
   "cell_type": "markdown",
   "id": "8f181bc0-8a8b-433b-b977-3021afa879b3",
   "metadata": {},
   "source": [
    "#### Case study \n",
    "\n",
    "Problem: computing the number of occurrences of items in a list\n",
    "\n",
    "```grades = [95, 96, 100, 85, 95, 90, 95, 100, 100]```"
   ]
  },
  {
   "cell_type": "code",
   "execution_count": null,
   "id": "3586f644-58cd-4b4f-aa33-1bd3fc2d0d74",
   "metadata": {},
   "outputs": [],
   "source": [
    "grades = [95, 96, 100, 85, 95, 90, 95, 100, 100]\n",
    "\n",
    "def frequency(itemList):\n",
    "    'returns frequency of items in itemList'\n",
    "    counters = {}\n",
    "    for item in itemList:\n",
    "        if item in counters: # increment item counter\n",
    "            counters[item] += 1\n",
    "        else: # create item counter\n",
    "            counters[item] = 1\n",
    "    return counters\n",
    "\n",
    "print(frequency(grades))\n",
    "\n",
    "# we can use defaultdict from the collections library\n",
    "\n",
    "from collections import defaultdict\n",
    "\n",
    "def frequency(itemList):\n",
    "    'returns frequency of items in itemList'\n",
    "    counters = defaultdict(int) # creates a dictionary where the default value is 0 for an unused key\n",
    "    for item in itemList:\n",
    "        counters[item] += 1\n",
    "    return counters\n",
    "\n",
    "print(frequency(grades))\n",
    "\n",
    "\n",
    "\n"
   ]
  },
  {
   "cell_type": "markdown",
   "id": "8106f84f-42e9-48a9-a6d9-aa1f84fc2698",
   "metadata": {},
   "source": [
    "## Exercise\n",
    "```\n",
    " Implement function wordcount() that takes as input a text—as a \r\n",
    "string— and prints the frequency of each word in the text; assume \r\n",
    "there is no punctuation in the text."
   ]
  },
  {
   "cell_type": "code",
   "execution_count": null,
   "id": "17a86078-1e5e-48ed-bf7d-50f7be9c61e7",
   "metadata": {},
   "outputs": [],
   "source": []
  },
  {
   "cell_type": "markdown",
   "id": "e578e4fc-ad0e-4406-b58e-e4b22347dc35",
   "metadata": {},
   "source": [
    "## Tuples\n",
    "\n",
    "Tuples are immutable lists "
   ]
  },
  {
   "cell_type": "code",
   "execution_count": null,
   "id": "14aee076-1ece-4849-a556-79771c41cb56",
   "metadata": {},
   "outputs": [],
   "source": [
    "lst = ['one', 'two', 3]\n",
    "print(lst[2])\n",
    "lst[2] = 'three' # lists are mutable\n",
    "print(lst[2])\n",
    "tpl = ('one', 'two', 3)\n",
    "print(tpl)\n",
    "print(tpl[2])\n",
    "tpl[2] = 'three' # tuples are immutable"
   ]
  },
  {
   "cell_type": "markdown",
   "id": "fb010906-024e-4aca-b1fa-d20e77784f68",
   "metadata": {},
   "source": [
    "## Exercise\n",
    "\n",
    "```\n",
    "Implement function lookup() that implements a phone book lookup \r\n",
    "application. Your function takes, as input, a dictionary representing a phone book,\r\n",
    " mappingtuples (containing the \r\n",
    "first and last name) to strings\r\n",
    " (containing phone numbers) "
   ]
  },
  {
   "cell_type": "code",
   "execution_count": null,
   "id": "97b78ba1-e7a7-4a81-89e3-5dba84580258",
   "metadata": {},
   "outputs": [],
   "source": [
    "phonebook = {\n",
    " ('Anna','Karenina'):'(123)456-78-90',\n",
    " ('Yu', 'Tsun'):'(901)234-56-78',\n",
    " ('Hans', 'Castorp'):'(321)908-76-54'}"
   ]
  },
  {
   "cell_type": "markdown",
   "id": "6d52777f-6aaa-41f0-b7fe-bd7ebd349fab",
   "metadata": {},
   "source": [
    "## Sets \n",
    "\n",
    "The built in class set represents the mathematical definition of a set. Similar to lists they contain collections of objects, however sets are unordered and non-idental (no duplicates). Operations like set membership, union, intersection and difference are supported."
   ]
  },
  {
   "cell_type": "code",
   "execution_count": null,
   "id": "29a43965-1c45-4881-98b0-addc41f6fe02",
   "metadata": {},
   "outputs": [],
   "source": [
    "ages = {28, 25, 22} # defines a set of ints\n",
    "print(type(ages))\n",
    "ages2 = {22, 23, 22, 23, 25}\n",
    "# binary set operations\n",
    "print(ages == ages2) # only true if both sets contain the same elements\n",
    "print(ages != ages2) # only true if both sets do not contain the same elements\n",
    "print(ages <= ages2) # only true if ages is a subset of ages2\n",
    "print(ages < ages2) # only true if ages is a proper subset of ages2\n",
    "print(ages | ages2) # returns set union\n",
    "print(ages & ages2) # returns set intersection\n",
    "print(ages - ages2) # returns set difference \n",
    "print(ages ^ ages2) # returns the symmetric set difference"
   ]
  },
  {
   "cell_type": "code",
   "execution_count": null,
   "id": "e2c1cb5e-9484-4e22-9107-d49e512ab213",
   "metadata": {},
   "outputs": [],
   "source": [
    "# unary set operations\n",
    "ages.add(30)\n",
    "print(ages)\n",
    "ages.remove(25)\n",
    "print(ages)\n",
    "ages.clear()\n",
    "print(ages)"
   ]
  },
  {
   "cell_type": "code",
   "execution_count": null,
   "id": "4f0f71e5-222b-4a9f-9bbb-47d71b1626ea",
   "metadata": {},
   "outputs": [],
   "source": [
    "# removing duplicates from a list with set type casting\n",
    "lst = [1,1,2,4,6,8,9]\n",
    "print(lst)\n",
    "lst = list(set(lst))\n",
    "print(lst)"
   ]
  },
  {
   "cell_type": "code",
   "execution_count": null,
   "id": "0ac0b34e-24de-4698-b12c-cad387054f35",
   "metadata": {},
   "outputs": [],
   "source": []
  }
 ],
 "metadata": {
  "kernelspec": {
   "display_name": "Python 3 (ipykernel)",
   "language": "python",
   "name": "python3"
  },
  "language_info": {
   "codemirror_mode": {
    "name": "ipython",
    "version": 3
   },
   "file_extension": ".py",
   "mimetype": "text/x-python",
   "name": "python",
   "nbconvert_exporter": "python",
   "pygments_lexer": "ipython3",
   "version": "3.12.4"
  }
 },
 "nbformat": 4,
 "nbformat_minor": 5
}
