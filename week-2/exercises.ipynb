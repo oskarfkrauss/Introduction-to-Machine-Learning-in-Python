{
 "cells": [
  {
   "cell_type": "markdown",
   "id": "ad849bc1-3388-48bd-b35d-6bea7b55f857",
   "metadata": {},
   "source": [
    "# Numpy basics\n",
    "\n",
    "In this notebook the goal is to get comfortable with the basics of numpy, such as defining vectors, matrices, higher-order tensors and basic operations like, multiplication, transposition, matrix inverse, matrix determinants, eigenvalues and eigen vectors and SVD.\n",
    "\n",
    "For more resources please see: (https://numpy.org/doc/stable/user/absolute_beginners.html)"
   ]
  },
  {
   "cell_type": "markdown",
   "id": "afe6e633-5d3a-47e8-b9b5-024268141b2a",
   "metadata": {},
   "source": [
    "### Array creation\n",
    "\n",
    "```\n",
    "There are 6 general mechanisms for creating arrays:\n",
    "\n",
    "Conversion from other Python structures (i.e. lists and tuples)\n",
    "\n",
    "Intrinsic NumPy array creation functions (e.g. arange, ones, zeros, etc.)\n",
    "\n",
    "Replicating, joining, or mutating existing arrays\n",
    "\n",
    "Reading arrays from disk, either from standard or custom formats\n",
    "\n",
    "Creating arrays from raw bytes through the use of strings or buffers\n",
    "\n",
    "Use of special library functions (e.g., random)"
   ]
  },
  {
   "cell_type": "code",
   "execution_count": null,
   "id": "d7ab5f15-f84a-4e72-a089-ba88e8f9fb23",
   "metadata": {},
   "outputs": [],
   "source": [
    "import numpy as np"
   ]
  },
  {
   "cell_type": "code",
   "execution_count": null,
   "id": "5df30937-dd5c-4ea5-b0dc-2a66e772fffc",
   "metadata": {},
   "outputs": [],
   "source": [
    "# create a 1D array from a python list\n",
    "a1D = np.array([1, 2, 3, 4])\n",
    "# create a 2D array from a python list of lists\n",
    "a2D = np.array([[1, 2], [3, 4]])\n",
    "# create a 3D array from a python list of list of lists\n",
    "a3D = np.array([[[1, 2], [3, 4]], [[5, 6], [7, 8]]])\n",
    "# lets print the shape of each array\n",
    "print(a1D.shape) # shape (4,) is a vector of 4 values\n",
    "print(a2D.shape) # shape (2, 2) is a 2x2 matrix\n",
    "print(a3D.shape) # shape (2,2,2) is a 3-dimensional tensor"
   ]
  },
  {
   "cell_type": "code",
   "execution_count": null,
   "id": "7061b233-5856-430c-8740-a03fb27772e7",
   "metadata": {},
   "outputs": [],
   "source": [
    "#we can specify the dtype of an array\n",
    "print(np.array([127, 128, 129], dtype=np.int8)) # 8 bit signed integer - this will give a warning !!!\n",
    "print(np.array([127, 128, 129], dtype=np.int64)) # 64 bit signed integer\n",
    "print(np.array([5, 6, 7], dtype=np.uint32)) # 32 bit unsigned integer\n",
    "print(np.array([127, 128, 129], dtype=np.float32)) # normal floating point precision\n",
    "print(np.array([127, 128, 129], dtype=np.float16)) # lower floating point precision\n",
    "print(np.array([127, 128, 129], dtype=np.float64)) # higher floating point precision"
   ]
  },
  {
   "cell_type": "code",
   "execution_count": null,
   "id": "46bf5673-42fb-49a2-886d-07568cfbcfd5",
   "metadata": {},
   "outputs": [],
   "source": [
    "# 1D numpy array creation functions similar to python range \n",
    "print(np.arange(10))\n",
    "#array([0, 1, 2, 3, 4, 5, 6, 7, 8, 9])\n",
    "print(np.arange(2, 10, dtype=float))\n",
    "#array([2., 3., 4., 5., 6., 7., 8., 9.])\n",
    "print(np.arange(2, 3, 0.1))\n",
    "#array([2. , 2.1, 2.2, 2.3, 2.4, 2.5, 2.6, 2.7, 2.8, 2.9])"
   ]
  },
  {
   "cell_type": "code",
   "execution_count": null,
   "id": "f843117e-11d3-4b22-90bc-0fc0869d7fef",
   "metadata": {},
   "outputs": [],
   "source": [
    "# 2D numpy array creation functions\n",
    "# Create the 3x3 Identity matrix\n",
    "print(np.eye(3))\n",
    "# Create the 3x5 Identity matrix\n",
    "print(np.eye(3, 5))\n",
    "# Create a diagonal matrix from a vector\n",
    "print(np.diag([1, 2, 3]))\n",
    "# Create an off diagonmal matrix from a vector\n",
    "print(np.diag([1, 2, 3], 1))\n",
    "# From a matrix np.diag returns the diagonal vector\n",
    "a = np.array([[1, 2], [3, 4]])\n",
    "print(np.diag(a))"
   ]
  },
  {
   "cell_type": "code",
   "execution_count": null,
   "id": "a02da929-ef54-42a0-9f5a-91e06f9f6b7c",
   "metadata": {},
   "outputs": [],
   "source": [
    "# general numpy array creation functions\n",
    "# create a 2x3 matrix filled with zeros\n",
    "print(np.zeros((2, 3)))\n",
    "# create a 2x3 matrix filled with ones\n",
    "print(np.ones((2, 3)))\n",
    "# create a higher-order tensor filled with 0.5s\n",
    "print(np.zeros((2,3,3,5))+0.5)"
   ]
  },
  {
   "cell_type": "code",
   "execution_count": null,
   "id": "1de8139b-7be2-4aa0-950e-96a5779bda3e",
   "metadata": {},
   "outputs": [],
   "source": [
    "# generating random numpy array with np.random\n",
    "import numpy.random as nr\n",
    "# create a vector of random numbers sampled uniformly from [0, 1]\n",
    "print(nr.random(10))\n",
    "# create a matrix of random numbers sampled uniformly from [0, 1]\n",
    "print(nr.random((4,4)))\n",
    "# create a vector of random numbers sampled from the standard normal distribtution\n",
    "print(nr.randn(10))\n",
    "# create a matrix of random numbers sampled from the standard normal distribtution\n",
    "print(nr.randn(4,4))"
   ]
  },
  {
   "cell_type": "markdown",
   "id": "1d5018a2-db4b-4ffc-8735-800674006dcb",
   "metadata": {},
   "source": [
    "### Array indexing and slicing\n",
    "\n",
    "Just like lists and strings in python we can index and slice numpy arrays in a similar way."
   ]
  },
  {
   "cell_type": "code",
   "execution_count": null,
   "id": "045ea1b8-1721-4c39-8806-653b6b573f1f",
   "metadata": {},
   "outputs": [],
   "source": [
    "x = np.arange(10)\n",
    "print(x)\n",
    "print(x[2])\n",
    "print(x[-2])"
   ]
  },
  {
   "cell_type": "code",
   "execution_count": null,
   "id": "2f5f3ac4-cd4c-4eb5-ad88-b749e499904a",
   "metadata": {},
   "outputs": [],
   "source": [
    "# make x 2-dimensional with reshape\n",
    "x = x.reshape(2, 5) # 2 * 5 = 10 so this works \n",
    "print(x)\n",
    "x = x.flatten() # flatten x so it is a vector again\n",
    "print(x)\n",
    "x = x.reshape(5, -1) # reshape x so its first dimension is 5 and the remaining dimension is 10/5\n",
    "print(x)"
   ]
  },
  {
   "cell_type": "code",
   "execution_count": null,
   "id": "e927e63e-19c9-41a7-a0fc-cf351cde511c",
   "metadata": {},
   "outputs": [],
   "source": [
    "# we can index our reshaped x array\n",
    "print(x)\n",
    "print(x[2, 1]) # print the value at row 2 and column 1"
   ]
  },
  {
   "cell_type": "code",
   "execution_count": null,
   "id": "13a4f560-6688-4b0a-911c-5469f0520a6a",
   "metadata": {},
   "outputs": [],
   "source": [
    "# let's redefine x\n",
    "x = np.arange(10)\n",
    "print(x)\n",
    "# lets slice x\n",
    "print(x[1:5]) # get elements from 1 to 4 (inclusive)\n",
    "print(x[1:7:2]) # get elements from 1 to 7 (skipping over every other value)\n",
    "print(x[-2:10]) # get elements from the second last to 9 (inclsuive) \n",
    "print(x[-3:3:-1]) # get elements from the third last to the third (going down -1)\n",
    "print(x[5:]) # gete elements from the fifth onwards"
   ]
  },
  {
   "cell_type": "code",
   "execution_count": null,
   "id": "027399e5-8207-42f1-a0eb-fb2ccf5bec9d",
   "metadata": {},
   "outputs": [],
   "source": [
    "# weird shapes\n",
    "x = np.array([[[1],[2],[3]], [[4],[5],[6]]])\n",
    "print(x)\n",
    "print(x.shape)"
   ]
  },
  {
   "cell_type": "code",
   "execution_count": null,
   "id": "d79dc623-30f2-43d1-9e42-33e7c1a30be4",
   "metadata": {},
   "outputs": [],
   "source": [
    "x = np.arange(4*3*2).reshape(4,3,2)\n",
    "print(x)\n",
    "# using ellipses indexing\n",
    "print(x[..., 0]) \n",
    "# this is equivalent to\n",
    "print(x[:, :, 0]) # we want all values on the first dimension all in the second dimension and only 0 in the third dimension\n",
    "print(x[0, 0:2, 0])"
   ]
  },
  {
   "cell_type": "code",
   "execution_count": null,
   "id": "e25675de-8be5-4776-94fa-13cfa61d085c",
   "metadata": {},
   "outputs": [],
   "source": [
    "# we can add dimensions to a numpy array in two different ways\n",
    "x = np.arange(4*3*2).reshape(4,3,2)\n",
    "print(x.shape)\n",
    "print(x[:, np.newaxis, :, :].shape)\n",
    "print(x[:, None, :, :].shape)\n"
   ]
  },
  {
   "cell_type": "code",
   "execution_count": null,
   "id": "2c12c0ae-9695-4218-832a-cd828cc618bd",
   "metadata": {},
   "outputs": [],
   "source": [
    "# something weird\n",
    "x = np.arange(5)\n",
    "print(x)\n",
    "print(x[:, np.newaxis] + x[np.newaxis, :])"
   ]
  },
  {
   "cell_type": "code",
   "execution_count": null,
   "id": "9d6bfef4-a6bf-4949-8c1d-8d150b0c0733",
   "metadata": {},
   "outputs": [],
   "source": [
    "# we can index with arrays\n",
    "x = np.arange(10, 1, -1)\n",
    "print(x)\n",
    "indices = np.array([3, 3, 1, 8])\n",
    "print(x[indices])"
   ]
  },
  {
   "cell_type": "code",
   "execution_count": null,
   "id": "64973136-5ac1-47b9-876a-7b0ad19a5412",
   "metadata": {},
   "outputs": [],
   "source": [
    "# we can do the same with higher-order numpy array\n",
    "y = np.arange(35).reshape(5, 7)\n",
    "print(y)\n",
    "print(y[np.array([0, 2, 4]), np.array([0, 1, 2])])"
   ]
  },
  {
   "cell_type": "code",
   "execution_count": null,
   "id": "0dae18a2-0804-4ed0-bd52-1563322354cc",
   "metadata": {},
   "outputs": [],
   "source": [
    "# similarly \n",
    "x = np.array([[ 0,  1,  2],\n",
    "              [ 3,  4,  5],\n",
    "              [ 6,  7,  8],\n",
    "              [ 9, 10, 11]])\n",
    "rows = np.array([[0, 0],\n",
    "                 [3, 3]], dtype=np.intp)\n",
    "columns = np.array([[0, 2],\n",
    "                    [0, 2]], dtype=np.intp)\n",
    "\n",
    "print(x[rows, columns])"
   ]
  },
  {
   "cell_type": "code",
   "execution_count": null,
   "id": "3bd1c679-844d-491e-8330-e3d77a3f3ea7",
   "metadata": {},
   "outputs": [],
   "source": [
    "# boolean array indexing\n",
    "# we can index numpy array based on a boolean mapping\n",
    "x = np.arange(35).reshape(5, 7)\n",
    "print(x)\n",
    "b = x > 20\n",
    "print(b) # print the boolean mask\n",
    "print(x[b])"
   ]
  },
  {
   "cell_type": "code",
   "execution_count": null,
   "id": "5e9f0df7-fc8b-4ed1-a279-c90d6f7d9eaa",
   "metadata": {},
   "outputs": [],
   "source": [
    "# we can do this to remove nan values\n",
    "x = np.array([[1., 2.], [np.nan, 3.], [np.nan, np.nan]])\n",
    "print(x[~np.isnan(x)])"
   ]
  },
  {
   "cell_type": "code",
   "execution_count": null,
   "id": "f1fa1f87-150c-4d65-b561-9c216f250ca7",
   "metadata": {},
   "outputs": [],
   "source": [
    "# other funky things we can do\n",
    "x = np.array([1., -1., -2., 3])\n",
    "x[x < 0] += 20\n",
    "print(x)\n",
    "\n",
    "x = np.array([[0, 1], [1, 1], [2, 2]])\n",
    "rowsum = x.sum(-1)\n",
    "print(rowsum)\n",
    "print(x[rowsum <= 2, :])"
   ]
  },
  {
   "cell_type": "markdown",
   "id": "379a643b-c797-4a7c-8d79-08ea0e21fbc5",
   "metadata": {},
   "source": [
    "## Broadcasting\n",
    "\n",
    "One of the best things about numpy is broadcasting. If two numpy arrays have compatible shape then boolean operations like ```*```, ```+```, ```-```, ```\\```, ```>``` etc. can be broadcast elementwise."
   ]
  },
  {
   "cell_type": "code",
   "execution_count": null,
   "id": "ccb48d95-eeb6-41e0-9dd4-da0c0f25d66e",
   "metadata": {},
   "outputs": [],
   "source": [
    "a = np.array([1.0, 2.0, 3.0])\n",
    "b = np.array([2.0, 2.0, 2.0])\n",
    "print(a * b)\n",
    "print(a + b)\n",
    "print(a / b)\n",
    "print(a - b)\n",
    "print(a > b)"
   ]
  },
  {
   "cell_type": "code",
   "execution_count": null,
   "id": "89232e44-833f-41e4-a378-35f715dc7f91",
   "metadata": {},
   "outputs": [],
   "source": [
    "# broadcastable array with different shape\n",
    "a = np.array([[ 0.0,  0.0,  0.0],\n",
    "              [10.0, 10.0, 10.0],\n",
    "              [20.0, 20.0, 20.0],\n",
    "              [30.0, 30.0, 30.0]])\n",
    "b = np.array([1.0, 2.0, 3.0])\n",
    "print(a.shape, b.shape)\n",
    "print(a + b)\n",
    "\n",
    "# non broadcastable array with incompatible shapes\n",
    "b = np.array([1.0, 2.0, 3.0, 4.0])\n",
    "print(a.shape, b.shape)\n",
    "print(a + b)"
   ]
  },
  {
   "cell_type": "code",
   "execution_count": null,
   "id": "5d140b75-0e26-4eb7-93fd-94875ba0c313",
   "metadata": {},
   "outputs": [],
   "source": [
    "# to add a and b we need to reshape b so that the addition operation is boradcast over the first dimension\n",
    "b=b.reshape(-1, 1)\n",
    "print(a.shape, b.shape)\n",
    "print(a+b)"
   ]
  },
  {
   "cell_type": "markdown",
   "id": "47d034c9-de02-49ff-b9e4-30bd771b1e87",
   "metadata": {},
   "source": [
    "## Advanced tutorials\n",
    "\n",
    "For more advanced tutorials see: (https://numpy.org/numpy-tutorials/)"
   ]
  },
  {
   "cell_type": "markdown",
   "id": "f19a06ea-67bf-4eb3-a1f6-38a48e3f5f81",
   "metadata": {},
   "source": [
    "## Basic linear algebra with numpy\n",
    "\n",
    "These are indended to be exercises, please compute the results by hand and then uncomment the print statement to see if you were correct or not. "
   ]
  },
  {
   "cell_type": "code",
   "execution_count": null,
   "id": "3d5a5449-30c5-4297-a145-043322eab035",
   "metadata": {},
   "outputs": [],
   "source": [
    "import numpy.linalg as lin"
   ]
  },
  {
   "cell_type": "code",
   "execution_count": null,
   "id": "d1f365ea-55f9-45a6-a50c-86134617f8c4",
   "metadata": {},
   "outputs": [],
   "source": [
    "# dot product - remeber the dot product is an elementwise multiplication and then sum of the results\n",
    "#print(np.dot(3, 4))\n",
    "a = [2,3,1,4]\n",
    "b = [0,1,3,1]\n",
    "#print(np.dot(a, b))\n",
    "a = [[1, 0], [0, 1]]\n",
    "b = [[4, 1], [2, 2]]\n",
    "#print(np.dot(a,b))"
   ]
  },
  {
   "cell_type": "code",
   "execution_count": null,
   "id": "e1f76c5d-7b36-4a34-936f-6d6831cb1d8b",
   "metadata": {},
   "outputs": [],
   "source": [
    "# inner product - this is defined only for vectors, remember this is the same as the dot product\n",
    "a = [2,3,1,4]\n",
    "b = [0,1,3,1]\n",
    "#print(np.inner(a, b))\n",
    "# outer product - this defined only for vectors, this constructs a matrix\n",
    "#print(np.outer(a, b))"
   ]
  },
  {
   "cell_type": "code",
   "execution_count": null,
   "id": "a584669e-2017-4579-a250-31831c533149",
   "metadata": {},
   "outputs": [],
   "source": [
    "# matrix matrix multiplication\n",
    "a = np.array([[1, 0],\n",
    "              [0, 1]])\n",
    "b = np.array([[4, 1],\n",
    "              [2, 2]])\n",
    "#print(np.matmul(a, b))\n",
    "# matrix vector multiplication\n",
    "a = np.array([[1, 0],\n",
    "              [0, 1]])\n",
    "b = np.array([1, 2])\n",
    "#print(np.matmul(a, b))"
   ]
  },
  {
   "cell_type": "code",
   "execution_count": null,
   "id": "28805b57-7f9b-4d55-8ff1-2bf9615ee07c",
   "metadata": {},
   "outputs": [],
   "source": [
    "# matrix transpose\n",
    "a = np.array([[1, 3],\n",
    "       [2, 4]])\n",
    "#print(np.transpose(a))"
   ]
  },
  {
   "cell_type": "code",
   "execution_count": null,
   "id": "dce3a8aa-d0b5-4f15-b3bb-9c440a67111c",
   "metadata": {},
   "outputs": [],
   "source": [
    "# matrix determinant\n",
    "a = np.array([[1, 3],\n",
    "       [2, 4]])\n",
    "#print(lin.det(a))"
   ]
  },
  {
   "cell_type": "code",
   "execution_count": null,
   "id": "3e1427f3-6be7-4eee-99fb-9daeee8ad118",
   "metadata": {},
   "outputs": [],
   "source": [
    "# matrix inverse\n",
    "a = np.array([[1, 3],\n",
    "       [2, 4]])\n",
    "#print(lin.inv(a))"
   ]
  },
  {
   "cell_type": "code",
   "execution_count": null,
   "id": "31934f55-4187-4eda-b71e-52d45ea2f114",
   "metadata": {},
   "outputs": [],
   "source": [
    "# eigen values and eigen vectors\n",
    "a = np.array([[1, 3],\n",
    "       [2, 4]])\n",
    "eigenvalues, eigenvectors = lin.eig(a)\n",
    "#print(eigenvalues)\n",
    "#print(eigenvectors)"
   ]
  },
  {
   "cell_type": "code",
   "execution_count": null,
   "id": "04761448-a665-4607-a0b6-a3a0130818e9",
   "metadata": {},
   "outputs": [],
   "source": [
    "# when the matrix is diagonal the eigenvalues and eigenvectors are easy to compute\n",
    "d = np.diag((1, 2, 3))\n",
    "print(d)\n",
    "eigenvalues, eigenvectors = lin.eig(d)\n",
    "#print(eigenvalues)\n",
    "#print(eigenvectors)"
   ]
  },
  {
   "cell_type": "code",
   "execution_count": null,
   "id": "b695feba-a22c-4d4a-950e-13e34d6ec56d",
   "metadata": {},
   "outputs": [],
   "source": []
  }
 ],
 "metadata": {
  "kernelspec": {
   "display_name": "Python 3 (ipykernel)",
   "language": "python",
   "name": "python3"
  },
  "language_info": {
   "codemirror_mode": {
    "name": "ipython",
    "version": 3
   },
   "file_extension": ".py",
   "mimetype": "text/x-python",
   "name": "python",
   "nbconvert_exporter": "python",
   "pygments_lexer": "ipython3",
   "version": "3.9.13"
  }
 },
 "nbformat": 4,
 "nbformat_minor": 5
}
